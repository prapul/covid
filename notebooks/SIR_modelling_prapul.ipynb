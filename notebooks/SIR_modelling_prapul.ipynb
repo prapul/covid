{
 "cells": [
  {
   "cell_type": "code",
   "execution_count": 1,
   "metadata": {},
   "outputs": [],
   "source": [
    "import pandas as pd\n",
    "import numpy as np\n",
    "\n",
    "from datetime import datetime\n",
    "import pandas as pd \n",
    "\n",
    "from scipy import optimize\n",
    "from scipy import integrate\n",
    "\n",
    "%matplotlib inline\n",
    "import matplotlib as mpl\n",
    "import matplotlib.pyplot as plt\n",
    "\n",
    "import seaborn as sns\n",
    "\n",
    "\n",
    "sns.set(style=\"darkgrid\")\n",
    "\n",
    "mpl.rcParams['figure.figsize'] = (16, 9)\n",
    "pd.set_option('display.max_rows', 500)"
   ]
  },
  {
   "cell_type": "code",
   "execution_count": 2,
   "metadata": {},
   "outputs": [
    {
     "data": {
      "text/html": [
       "<div>\n",
       "<style scoped>\n",
       "    .dataframe tbody tr th:only-of-type {\n",
       "        vertical-align: middle;\n",
       "    }\n",
       "\n",
       "    .dataframe tbody tr th {\n",
       "        vertical-align: top;\n",
       "    }\n",
       "\n",
       "    .dataframe thead th {\n",
       "        text-align: right;\n",
       "    }\n",
       "</style>\n",
       "<table border=\"1\" class=\"dataframe\">\n",
       "  <thead>\n",
       "    <tr style=\"text-align: right;\">\n",
       "      <th></th>\n",
       "      <th>date</th>\n",
       "      <th>China</th>\n",
       "      <th>India</th>\n",
       "      <th>US</th>\n",
       "      <th>Italy</th>\n",
       "      <th>Germany</th>\n",
       "    </tr>\n",
       "  </thead>\n",
       "  <tbody>\n",
       "    <tr>\n",
       "      <td>0</td>\n",
       "      <td>2020-01-22</td>\n",
       "      <td>17</td>\n",
       "      <td>0</td>\n",
       "      <td>0</td>\n",
       "      <td>0</td>\n",
       "      <td>0</td>\n",
       "    </tr>\n",
       "    <tr>\n",
       "      <td>1</td>\n",
       "      <td>2020-01-23</td>\n",
       "      <td>18</td>\n",
       "      <td>0</td>\n",
       "      <td>0</td>\n",
       "      <td>0</td>\n",
       "      <td>0</td>\n",
       "    </tr>\n",
       "    <tr>\n",
       "      <td>2</td>\n",
       "      <td>2020-01-24</td>\n",
       "      <td>26</td>\n",
       "      <td>0</td>\n",
       "      <td>0</td>\n",
       "      <td>0</td>\n",
       "      <td>0</td>\n",
       "    </tr>\n",
       "    <tr>\n",
       "      <td>3</td>\n",
       "      <td>2020-01-25</td>\n",
       "      <td>42</td>\n",
       "      <td>0</td>\n",
       "      <td>0</td>\n",
       "      <td>0</td>\n",
       "      <td>0</td>\n",
       "    </tr>\n",
       "    <tr>\n",
       "      <td>4</td>\n",
       "      <td>2020-01-26</td>\n",
       "      <td>56</td>\n",
       "      <td>0</td>\n",
       "      <td>0</td>\n",
       "      <td>0</td>\n",
       "      <td>0</td>\n",
       "    </tr>\n",
       "  </tbody>\n",
       "</table>\n",
       "</div>"
      ],
      "text/plain": [
       "         date  China  India  US  Italy  Germany\n",
       "0  2020-01-22     17      0   0      0        0\n",
       "1  2020-01-23     18      0   0      0        0\n",
       "2  2020-01-24     26      0   0      0        0\n",
       "3  2020-01-25     42      0   0      0        0\n",
       "4  2020-01-26     56      0   0      0        0"
      ]
     },
     "execution_count": 2,
     "metadata": {},
     "output_type": "execute_result"
    }
   ],
   "source": [
    "df_analyse=pd.read_csv('../data/processed/datetime.csv',sep=';',index_col=0)  \n",
    "df_analyse.sort_values('date',ascending=True).head()"
   ]
  },
  {
   "cell_type": "code",
   "execution_count": 3,
   "metadata": {},
   "outputs": [],
   "source": [
    "N0=1000000 #max susceptible population\n",
    "beta=0.4   # infection spread dynamics\n",
    "gamma=0.1  # recovery rate\n",
    "\n",
    "\n",
    "# condition I0+S0+R0=N0\n",
    "I0=df_analyse.Germany[55]\n",
    "S0=N0-I0\n",
    "R0=0"
   ]
  },
  {
   "cell_type": "code",
   "execution_count": 4,
   "metadata": {},
   "outputs": [
    {
     "data": {
      "text/plain": [
       "24"
      ]
     },
     "execution_count": 4,
     "metadata": {},
     "output_type": "execute_result"
    }
   ],
   "source": [
    "df_analyse.Germany[55]"
   ]
  },
  {
   "cell_type": "code",
   "execution_count": 5,
   "metadata": {},
   "outputs": [],
   "source": [
    "def SIR_model(SIR,beta,gamma):\n",
    "    ''' Simple SIR model\n",
    "        S: susceptible population\n",
    "        I: infected people\n",
    "        R: recovered people\n",
    "        beta: \n",
    "        \n",
    "        overall condition is that the sum of changes (differnces) sum up to 0\n",
    "        dS+dI+dR=0\n",
    "        S+I+R= N (constant size of population)\n",
    "    \n",
    "    '''\n",
    "    \n",
    "    S,I,R=SIR\n",
    "    dS_dt=-beta*S*I/N0          #S*I is the \n",
    "    dI_dt=beta*S*I/N0-gamma*I\n",
    "    dR_dt=gamma*I\n",
    "    return([dS_dt,dI_dt,dR_dt])\n"
   ]
  },
  {
   "cell_type": "markdown",
   "metadata": {},
   "source": [
    "**SIMULATIVE APPROACH TO CALCULATE SIR CURVE**"
   ]
  },
  {
   "cell_type": "code",
   "execution_count": 6,
   "metadata": {},
   "outputs": [],
   "source": [
    "SIR=np.array([S0,I0,R0])\n",
    "propagation_rates=pd.DataFrame(columns={'susceptible':S0,\n",
    "                                        'infected':I0,\n",
    "                                        'recoverd':R0})\n",
    "\n",
    "\n",
    "\n",
    "for each_t in np.arange(100):\n",
    "   \n",
    "    new_delta_vec=SIR_model(SIR,beta,gamma)\n",
    "   \n",
    "    SIR=SIR+new_delta_vec\n",
    "    \n",
    "    propagation_rates=propagation_rates.append({'susceptible':SIR[0],\n",
    "                                                'infected':SIR[1],\n",
    "                                                'recovered':SIR[2]}, ignore_index=True)\n"
   ]
  },
  {
   "cell_type": "code",
   "execution_count": 7,
   "metadata": {},
   "outputs": [
    {
     "data": {
      "image/png": "[encoded data removed]",
      "text/plain": [
       "<Figure size 432x288 with 1 Axes>"
      ]
     },
     "metadata": {
      "needs_background": "light"
     },
     "output_type": "display_data"
    }
   ],
   "source": [
    "fig, ax1 = plt.subplots(1, 1)\n",
    "\n",
    "ax1.plot(propagation_rates.index,propagation_rates.infected,label='infected',color='k')\n",
    "ax1.plot(propagation_rates.index,propagation_rates.recovered,label='recovered')\n",
    "ax1.plot(propagation_rates.index,propagation_rates.susceptible,label='susceptible')\n",
    "\n",
    "ax1.set_ylim(10, 1000000)\n",
    "ax1.set_yscale('linear')\n",
    "ax1.set_title('Szenario SIR simulations  (demonstration purposes only)',size=16)\n",
    "ax1.set_xlabel('time in days',size=16)\n",
    "ax1.legend(loc='best',\n",
    "           prop={'size': 16});"
   ]
  },
  {
   "cell_type": "markdown",
   "metadata": {},
   "source": [
    "**Fitting the parameters of SIR model**"
   ]
  },
  {
   "cell_type": "code",
   "execution_count": 8,
   "metadata": {},
   "outputs": [],
   "source": [
    "ydata = np.array(df_analyse.Germany[55:])\n",
    "t=np.arange(len(ydata))"
   ]
  },
  {
   "cell_type": "code",
   "execution_count": 9,
   "metadata": {},
   "outputs": [
    {
     "data": {
      "text/plain": [
       "0.4"
      ]
     },
     "execution_count": 9,
     "metadata": {},
     "output_type": "execute_result"
    }
   ],
   "source": [
    "#re-initialization \n",
    "I0=ydata[0]\n",
    "S0=N0-I0\n",
    "R0=0\n",
    "beta"
   ]
  },
  {
   "cell_type": "code",
   "execution_count": 10,
   "metadata": {},
   "outputs": [],
   "source": [
    "def SIR_model_t(SIR,t,beta,gamma):\n",
    "    ''' Simple SIR model\n",
    "        S: susceptible population\n",
    "        t: time step, mandatory for integral.odeint\n",
    "        I: infected people\n",
    "        R: recovered people\n",
    "        beta: \n",
    "        \n",
    "        overall condition is that the sum of changes (differnces) sum up to 0\n",
    "        dS+dI+dR=0\n",
    "        S+I+R= N (constant size of population)\n",
    "    \n",
    "    '''\n",
    "    \n",
    "    S,I,R=SIR\n",
    "    dS_dt=-beta*S*I/N0          #S*I is the \n",
    "    dI_dt=beta*S*I/N0-gamma*I\n",
    "    dR_dt=gamma*I\n",
    "    return dS_dt,dI_dt,dR_dt"
   ]
  },
  {
   "cell_type": "code",
   "execution_count": 11,
   "metadata": {},
   "outputs": [],
   "source": [
    "def fit_odeint(x, beta, gamma):\n",
    "    '''\n",
    "    helper function for the integration\n",
    "    '''\n",
    "    return integrate.odeint(SIR_model_t, (S0, I0, R0), t, args=(beta, gamma))[:,1] # we only would like to get dI"
   ]
  },
  {
   "cell_type": "code",
   "execution_count": 12,
   "metadata": {},
   "outputs": [
    {
     "data": {
      "text/plain": [
       "array([2.40000000e+01, 3.23962316e+01, 4.37295974e+01, 5.90273658e+01,\n",
       "       7.96759393e+01, 1.07546283e+02, 1.45163052e+02, 1.95932561e+02,\n",
       "       2.64449912e+02, 3.56912478e+02, 4.81676058e+02, 6.50001995e+02,\n",
       "       8.77059089e+02, 1.18326410e+03, 1.59606959e+03, 2.15233795e+03,\n",
       "       2.90147526e+03, 3.90953383e+03, 5.26452113e+03, 7.08315792e+03,\n",
       "       9.51927809e+03, 1.27739016e+04, 1.71066459e+04, 2.28474281e+04,\n",
       "       3.04061622e+04, 4.02761760e+04, 5.30243139e+04, 6.92575685e+04,\n",
       "       8.95540374e+04, 1.14348088e+05, 1.43770295e+05, 1.77465480e+05,\n",
       "       2.14443556e+05, 2.53041327e+05, 2.91062043e+05, 3.26097663e+05,\n",
       "       3.55949184e+05, 3.79002096e+05, 3.94433450e+05, 4.02210824e+05,\n",
       "       4.02931248e+05, 3.97589499e+05, 3.87355174e+05, 3.73402698e+05,\n",
       "       3.56804853e+05, 3.38480454e+05, 3.19179914e+05, 2.99493344e+05,\n",
       "       2.79869765e+05, 2.60640065e+05, 2.42039567e+05, 2.24228236e+05,\n",
       "       2.07307771e+05, 1.91335593e+05, 1.76336018e+05, 1.62309031e+05,\n",
       "       1.49237096e+05, 1.37090387e+05, 1.25830776e+05, 1.15414847e+05,\n",
       "       1.05796152e+05, 9.69268853e+04, 8.87591149e+04, 8.12456649e+04,\n",
       "       7.43407404e+04, 6.80003534e+04, 6.21825984e+04, 5.68478155e+04,\n",
       "       5.19586691e+04, 4.74801652e+04, 4.33796228e+04, 3.96266140e+04,\n",
       "       3.61928805e+04, 3.30522367e+04, 3.01804623e+04, 2.75551915e+04,\n",
       "       2.51557992e+04, 2.29632889e+04, 2.09601823e+04, 1.91304133e+04,\n",
       "       1.74592255e+04, 1.59330757e+04, 1.45395416e+04, 1.32672359e+04,\n",
       "       1.21057250e+04, 1.10454538e+04, 1.00776749e+04, 9.19438325e+03,\n",
       "       8.38825585e+03, 7.65259516e+03, 6.98127749e+03, 6.36870511e+03,\n",
       "       5.80976214e+03, 5.29977398e+03, 4.83446998e+03, 4.40994914e+03,\n",
       "       4.02264858e+03, 3.66931473e+03, 3.34697674e+03, 3.05292224e+03,\n",
       "       2.78467506e+03, 2.53997488e+03, 2.31675857e+03, 2.11314310e+03,\n",
       "       1.92740995e+03, 1.75799084e+03, 1.60345462e+03, 1.46249542e+03,\n",
       "       1.33392167e+03, 1.21664616e+03, 1.10967696e+03, 1.01210904e+03,\n",
       "       9.23116775e+02, 8.41946901e+02, 7.67912252e+02, 7.00385957e+02,\n",
       "       6.38796154e+02, 5.82621187e+02, 5.31385193e+02, 4.84654099e+02,\n",
       "       4.42031950e+02, 4.03157573e+02, 3.67701521e+02, 3.35363291e+02,\n",
       "       3.05868783e+02, 2.78967986e+02, 2.54432856e+02, 2.32055394e+02,\n",
       "       2.11645881e+02, 1.93031277e+02, 1.76053750e+02, 1.60569344e+02,\n",
       "       1.46446759e+02, 1.33566238e+02, 1.21818554e+02, 1.11104082e+02,\n",
       "       1.01331960e+02, 9.24193108e+01, 8.42905489e+01, 7.68767337e+01,\n",
       "       7.01149869e+01, 6.39479601e+01, 5.83233478e+01, 5.31934445e+01,\n",
       "       4.85147402e+01, 4.42475510e+01, 4.03556835e+01, 3.68061269e+01,\n",
       "       3.35687740e+01, 3.06161655e+01, 2.79232567e+01, 2.54672061e+01,\n",
       "       2.32271809e+01, 2.11841806e+01, 1.93208758e+01, 1.76214613e+01,\n",
       "       1.60715220e+01, 1.46579107e+01, 1.33686366e+01, 1.21927633e+01,\n",
       "       1.11203166e+01, 1.01421995e+01, 9.25011492e+00, 8.43649582e+00,\n",
       "       7.69444061e+00, 7.01765473e+00, 6.40039730e+00, 5.83743234e+00,\n",
       "       5.32398445e+00, 4.85569825e+00, 4.42860142e+00, 4.03907106e+00,\n",
       "       3.68380291e+00, 3.35978336e+00, 3.06426385e+00])"
      ]
     },
     "execution_count": 12,
     "metadata": {},
     "output_type": "execute_result"
    }
   ],
   "source": [
    "# example curve of our differential equationa\n",
    "popt=[0.4,0.1]\n",
    "fit_odeint(t, *popt)"
   ]
  },
  {
   "cell_type": "code",
   "execution_count": 13,
   "metadata": {},
   "outputs": [
    {
     "name": "stdout",
     "output_type": "stream",
     "text": [
      "standard deviation errors :  [0.00925878 0.00905949]  start infect: 24\n",
      "Optimal parameters: beta = 0.39403217864322676  and gamma =  0.3340914912801826\n"
     ]
    }
   ],
   "source": [
    "# the resulting curve has to be fitted\n",
    "# free parameters are here beta and gamma\n",
    "\n",
    "popt, pcov = optimize.curve_fit(fit_odeint, t, ydata)\n",
    "perr = np.sqrt(np.diag(pcov))\n",
    "    \n",
    "print('standard deviation errors : ',str(perr), ' start infect:',ydata[0])\n",
    "print(\"Optimal parameters: beta =\", popt[0], \" and gamma = \", popt[1])"
   ]
  },
  {
   "cell_type": "code",
   "execution_count": 14,
   "metadata": {},
   "outputs": [],
   "source": [
    "# get the final fitted curve\n",
    "fitted=fit_odeint(t, *popt)"
   ]
  },
  {
   "cell_type": "code",
   "execution_count": 15,
   "metadata": {},
   "outputs": [
    {
     "data": {
      "image/png": "[encoded data removed]",
      "text/plain": [
       "<Figure size 432x288 with 1 Axes>"
      ]
     },
     "metadata": {
      "needs_background": "light"
     },
     "output_type": "display_data"
    },
    {
     "name": "stdout",
     "output_type": "stream",
     "text": [
      "Optimal parameters: beta = 0.39403217864322676  and gamma =  0.3340914912801826\n",
      "Basic Reproduction Number R0  1.1794139896630156\n",
      "This ratio is derived as the expected number of new infections (these new infections are sometimes called secondary infections from a single infection in a population where all subjects are susceptible. @wiki\n"
     ]
    }
   ],
   "source": [
    "plt.semilogy(t, ydata, 'o')\n",
    "plt.semilogy(t, fitted)\n",
    "plt.title(\"Fit of SIR model for Germany cases\")\n",
    "plt.ylabel(\"Population infected\")\n",
    "plt.xlabel(\"Days\")\n",
    "plt.show()\n",
    "print(\"Optimal parameters: beta =\", popt[0], \" and gamma = \", popt[1])\n",
    "print(\"Basic Reproduction Number R0 \" , popt[0]/ popt[1])\n",
    "print(\"This ratio is derived as the expected number of new infections (these new infections are sometimes called secondary infections from a single infection in a population where all subjects are susceptible. @wiki\")"
   ]
  },
  {
   "cell_type": "code",
   "execution_count": null,
   "metadata": {},
   "outputs": [],
   "source": []
  }
 ],
 "metadata": {
  "kernelspec": {
   "display_name": "Python 3",
   "language": "python",
   "name": "python3"
  },
  "language_info": {
   "codemirror_mode": {
    "name": "ipython",
    "version": 3
   },
   "file_extension": ".py",
   "mimetype": "text/x-python",
   "name": "python",
   "nbconvert_exporter": "python",
   "pygments_lexer": "ipython3",
   "version": "3.7.4"
  }
 },
 "nbformat": 4,
 "nbformat_minor": 2
}
